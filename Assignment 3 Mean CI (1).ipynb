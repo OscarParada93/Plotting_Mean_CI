{
 "cells": [
  {
   "cell_type": "code",
   "execution_count": 135,
   "metadata": {},
   "outputs": [
    {
     "data": {
      "text/plain": [
       "Text(0, 0.5, 'Values')"
      ]
     },
     "execution_count": 135,
     "metadata": {},
     "output_type": "execute_result"
    },
    {
     "data": {
      "image/png": "[encoded data removed]",
      "text/plain": [
       "<Figure size 432x288 with 1 Axes>"
      ]
     },
     "metadata": {
      "needs_background": "light"
     },
     "output_type": "display_data"
    }
   ],
   "source": [
    "import pandas as pd\n",
    "import numpy as np\n",
    "import matplotlib.pyplot as plt\n",
    "import matplotlib as cm\n",
    "\n",
    "np.random.seed(12345)\n",
    "\n",
    "df = pd.DataFrame([np.random.normal(32000,200000,3650), \n",
    "                   np.random.normal(43000,100000,3650), \n",
    "                   np.random.normal(43500,140000,3650), \n",
    "                   np.random.normal(48000,70000,3650)], \n",
    "                  index=[1992,1993,1994,1995])\n",
    "y   = 41000\n",
    "df  = df.transpose()\n",
    "df  = df.describe()\n",
    "df1 = df.transpose()\n",
    "labels = [1992,1993,1994,1995]\n",
    "x = np.arange(len(labels))\n",
    "df1['limsup'] = df1['mean'] + (1.96*df.loc['std'])/np.sqrt(3650)\n",
    "df1['liminf'] = df1['mean'] - (1.96*df.loc['std'])/np.sqrt(3650)\n",
    "df1['yerr']   = df1['mean'] - df1['liminf']\n",
    "\n",
    "conditions = [\n",
    "    (df1['liminf'] > y),\n",
    "    (df1['mean'] > y) & (df1['liminf'] < y),\n",
    "    (df1['limsup'] < y), \n",
    "    (df1['mean'] < y) & (df1['limsup'] > y),\n",
    "    (df1['mean'] == y)\n",
    "]\n",
    "\n",
    "choices = ['darkred', 'tomato', 'darkblue','cyan','white']\n",
    "df1['color'] = np.select(conditions, choices)\n",
    "fig, ax = plt.subplots()\n",
    "plt.bar(x,df1['mean'],yerr=df1['yerr'],color =df1['color'],capsize =10)\n",
    "ax.axhline(y=y)\n",
    "ax.set_xticks(x)\n",
    "ax.set_xticklabels(labels)\n",
    "ax.set_title('Easiest option ')\n",
    "plt.xlabel('Years')\n",
    "plt.ylabel('Values')"
   ]
  }
 ],
 "metadata": {
  "kernelspec": {
   "display_name": "Python 3",
   "language": "python",
   "name": "python3"
  },
  "language_info": {
   "codemirror_mode": {
    "name": "ipython",
    "version": 3
   },
   "file_extension": ".py",
   "mimetype": "text/x-python",
   "name": "python",
   "nbconvert_exporter": "python",
   "pygments_lexer": "ipython3",
   "version": "3.7.6"
  }
 },
 "nbformat": 4,
 "nbformat_minor": 4
}
